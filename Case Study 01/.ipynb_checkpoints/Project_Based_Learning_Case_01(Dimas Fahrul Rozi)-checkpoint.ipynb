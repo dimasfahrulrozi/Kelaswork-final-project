{
 "cells": [
  {
   "cell_type": "markdown",
   "id": "231ce712-f436-4ef0-9ff2-edd3a0147bce",
   "metadata": {},
   "source": [
    "Nama : Dimas Fahrul Rozi                                 (Case Study 01)"
   ]
  },
  {
   "cell_type": "markdown",
   "id": "f22a0573-8159-4c0e-be9e-f8e3748edda9",
   "metadata": {},
   "source": [
    "## Membuat DataFrame 'TransactionAmount'"
   ]
  },
  {
   "cell_type": "code",
   "execution_count": 52,
   "id": "309dabb9-e570-4d6f-b227-5f2fdd40736b",
   "metadata": {
    "executionInfo": {
     "elapsed": 584,
     "status": "ok",
     "timestamp": 1671520030242,
     "user": {
      "displayName": "Stephanie Fani",
      "userId": "03013489333346707504"
     },
     "user_tz": -420
    },
    "id": "309dabb9-e570-4d6f-b227-5f2fdd40736b"
   },
   "outputs": [],
   "source": [
    "#Import Libraries\n",
    "import pandas as pd\n",
    "import numpy as np\n",
    "import scipy.stats as stats"
   ]
  },
  {
   "cell_type": "code",
   "execution_count": 53,
   "id": "56587e98-c378-44b9-93f0-d796b76124ff",
   "metadata": {
    "colab": {
     "base_uri": "https://localhost:8080/",
     "height": 833
    },
    "executionInfo": {
     "elapsed": 4,
     "status": "ok",
     "timestamp": 1671520030243,
     "user": {
      "displayName": "Stephanie Fani",
      "userId": "03013489333346707504"
     },
     "user_tz": -420
    },
    "id": "56587e98-c378-44b9-93f0-d796b76124ff",
    "outputId": "34e681a7-bda2-4ea7-c895-b08208412753"
   },
   "outputs": [
    {
     "data": {
      "text/html": [
       "<div>\n",
       "<style scoped>\n",
       "    .dataframe tbody tr th:only-of-type {\n",
       "        vertical-align: middle;\n",
       "    }\n",
       "\n",
       "    .dataframe tbody tr th {\n",
       "        vertical-align: top;\n",
       "    }\n",
       "\n",
       "    .dataframe thead th {\n",
       "        text-align: right;\n",
       "    }\n",
       "</style>\n",
       "<table border=\"1\" class=\"dataframe\">\n",
       "  <thead>\n",
       "    <tr style=\"text-align: right;\">\n",
       "      <th></th>\n",
       "      <th>TransactionAmount</th>\n",
       "    </tr>\n",
       "  </thead>\n",
       "  <tbody>\n",
       "    <tr>\n",
       "      <th>0</th>\n",
       "      <td>100</td>\n",
       "    </tr>\n",
       "    <tr>\n",
       "      <th>1</th>\n",
       "      <td>150</td>\n",
       "    </tr>\n",
       "    <tr>\n",
       "      <th>2</th>\n",
       "      <td>50</td>\n",
       "    </tr>\n",
       "    <tr>\n",
       "      <th>3</th>\n",
       "      <td>100</td>\n",
       "    </tr>\n",
       "    <tr>\n",
       "      <th>4</th>\n",
       "      <td>130</td>\n",
       "    </tr>\n",
       "    <tr>\n",
       "      <th>5</th>\n",
       "      <td>120</td>\n",
       "    </tr>\n",
       "    <tr>\n",
       "      <th>6</th>\n",
       "      <td>100</td>\n",
       "    </tr>\n",
       "    <tr>\n",
       "      <th>7</th>\n",
       "      <td>85</td>\n",
       "    </tr>\n",
       "    <tr>\n",
       "      <th>8</th>\n",
       "      <td>70</td>\n",
       "    </tr>\n",
       "    <tr>\n",
       "      <th>9</th>\n",
       "      <td>150</td>\n",
       "    </tr>\n",
       "    <tr>\n",
       "      <th>10</th>\n",
       "      <td>150</td>\n",
       "    </tr>\n",
       "    <tr>\n",
       "      <th>11</th>\n",
       "      <td>120</td>\n",
       "    </tr>\n",
       "    <tr>\n",
       "      <th>12</th>\n",
       "      <td>50</td>\n",
       "    </tr>\n",
       "    <tr>\n",
       "      <th>13</th>\n",
       "      <td>100</td>\n",
       "    </tr>\n",
       "    <tr>\n",
       "      <th>14</th>\n",
       "      <td>100</td>\n",
       "    </tr>\n",
       "    <tr>\n",
       "      <th>15</th>\n",
       "      <td>140</td>\n",
       "    </tr>\n",
       "    <tr>\n",
       "      <th>16</th>\n",
       "      <td>90</td>\n",
       "    </tr>\n",
       "    <tr>\n",
       "      <th>17</th>\n",
       "      <td>150</td>\n",
       "    </tr>\n",
       "    <tr>\n",
       "      <th>18</th>\n",
       "      <td>50</td>\n",
       "    </tr>\n",
       "    <tr>\n",
       "      <th>19</th>\n",
       "      <td>90</td>\n",
       "    </tr>\n",
       "    <tr>\n",
       "      <th>20</th>\n",
       "      <td>120</td>\n",
       "    </tr>\n",
       "    <tr>\n",
       "      <th>21</th>\n",
       "      <td>100</td>\n",
       "    </tr>\n",
       "    <tr>\n",
       "      <th>22</th>\n",
       "      <td>110</td>\n",
       "    </tr>\n",
       "    <tr>\n",
       "      <th>23</th>\n",
       "      <td>75</td>\n",
       "    </tr>\n",
       "    <tr>\n",
       "      <th>24</th>\n",
       "      <td>65</td>\n",
       "    </tr>\n",
       "  </tbody>\n",
       "</table>\n",
       "</div>"
      ],
      "text/plain": [
       "    TransactionAmount\n",
       "0                 100\n",
       "1                 150\n",
       "2                  50\n",
       "3                 100\n",
       "4                 130\n",
       "5                 120\n",
       "6                 100\n",
       "7                  85\n",
       "8                  70\n",
       "9                 150\n",
       "10                150\n",
       "11                120\n",
       "12                 50\n",
       "13                100\n",
       "14                100\n",
       "15                140\n",
       "16                 90\n",
       "17                150\n",
       "18                 50\n",
       "19                 90\n",
       "20                120\n",
       "21                100\n",
       "22                110\n",
       "23                 75\n",
       "24                 65"
      ]
     },
     "execution_count": 53,
     "metadata": {},
     "output_type": "execute_result"
    }
   ],
   "source": [
    "#Create DataFrame\n",
    "TransactionAmount = [100, 150, 50, 100, 130, 120, 100, 85, 70, 150, 150, 120, 50, 100, 100, 140, 90, 150, 50, 90, 120, 100, 110, 75, 65]\n",
    "df = pd.DataFrame(TransactionAmount, columns=[\"TransactionAmount\"])\n",
    "df"
   ]
  },
  {
   "cell_type": "markdown",
   "id": "f51fb45b-3a96-4748-903d-d052501389d5",
   "metadata": {},
   "source": [
    "## Membuat analisis Measure of Central tendency 'TransactionAmount'"
   ]
  },
  {
   "cell_type": "code",
   "execution_count": 54,
   "id": "38f6cda3-54a1-4776-880c-aa7da0d5a06a",
   "metadata": {},
   "outputs": [
    {
     "data": {
      "text/plain": [
       "array([100, 150,  50, 100, 130, 120, 100,  85,  70, 150, 150, 120,  50,\n",
       "       100, 100, 140,  90, 150,  50,  90, 120, 100, 110,  75,  65])"
      ]
     },
     "execution_count": 54,
     "metadata": {},
     "output_type": "execute_result"
    }
   ],
   "source": [
    "# Import data\n",
    "TransactionAmount = np.array([100, 150, 50, 100, 130, 120, 100, 85, 70, 150, 150, 120, 50, 100, 100, 140, 90, 150, 50, 90, 120, 100, 110, 75, 65])\n",
    "TransactionAmount"
   ]
  },
  {
   "cell_type": "code",
   "execution_count": 55,
   "id": "08b9821e-e625-4569-beb9-8b663a88a68b",
   "metadata": {},
   "outputs": [
    {
     "data": {
      "text/plain": [
       "25"
      ]
     },
     "execution_count": 55,
     "metadata": {},
     "output_type": "execute_result"
    }
   ],
   "source": [
    "len(TransactionAmount)"
   ]
  },
  {
   "cell_type": "code",
   "execution_count": 56,
   "id": "KOFYWfvUtfMx",
   "metadata": {
    "colab": {
     "base_uri": "https://localhost:8080/"
    },
    "executionInfo": {
     "elapsed": 6,
     "status": "ok",
     "timestamp": 1671520030708,
     "user": {
      "displayName": "Stephanie Fani",
      "userId": "03013489333346707504"
     },
     "user_tz": -420
    },
    "id": "KOFYWfvUtfMx",
    "outputId": "4d59d08d-7da4-4d66-c8e2-35761e1ac331"
   },
   "outputs": [
    {
     "name": "stdout",
     "output_type": "stream",
     "text": [
      "102\n",
      "100\n"
     ]
    },
    {
     "data": {
      "text/plain": [
       "[100]"
      ]
     },
     "execution_count": 56,
     "metadata": {},
     "output_type": "execute_result"
    }
   ],
   "source": [
    "#Central Tendency\n",
    "import statistics\n",
    "\n",
    "print(statistics.mean(TransactionAmount))\n",
    "print(statistics.median(TransactionAmount))\n",
    "\n",
    "statistics.mode(TransactionAmount)\n",
    "statistics.multimode(TransactionAmount)"
   ]
  },
  {
   "cell_type": "code",
   "execution_count": 57,
   "id": "ceRxEGdTt966",
   "metadata": {
    "executionInfo": {
     "elapsed": 1,
     "status": "ok",
     "timestamp": 1671520033894,
     "user": {
      "displayName": "Stephanie Fani",
      "userId": "03013489333346707504"
     },
     "user_tz": -420
    },
    "id": "ceRxEGdTt966"
   },
   "outputs": [],
   "source": [
    "#Tulis analisismu dari Central Tendency di sini\n",
    "# Mean = 102\n",
    "# Median = 100\n",
    "# Mode = 100"
   ]
  },
  {
   "cell_type": "markdown",
   "id": "043772d5-8948-4eb7-8f5c-aecfa2e7901a",
   "metadata": {},
   "source": [
    "## Membuat analisis Measure of Variability'TransactionAmount'"
   ]
  },
  {
   "cell_type": "code",
   "execution_count": 58,
   "id": "UcbHy344uQ-G",
   "metadata": {
    "colab": {
     "base_uri": "https://localhost:8080/"
    },
    "executionInfo": {
     "elapsed": 525,
     "status": "ok",
     "timestamp": 1671520041794,
     "user": {
      "displayName": "Stephanie Fani",
      "userId": "03013489333346707504"
     },
     "user_tz": -420
    },
    "id": "UcbHy344uQ-G",
    "outputId": "0efd8348-3879-4a79-8085-fd842b5d1a60"
   },
   "outputs": [
    {
     "name": "stdout",
     "output_type": "stream",
     "text": [
      "972.2399999999999\n",
      "31.18076330047101\n",
      "150\n",
      "50\n",
      "100\n",
      "85.0\n",
      "100.0\n",
      "120.0\n"
     ]
    }
   ],
   "source": [
    "#Variability\n",
    "import numpy as np\n",
    "import statistics\n",
    "\n",
    "print(np.var(TransactionAmount))\n",
    "print(np.std(TransactionAmount))\n",
    "print(np.max(TransactionAmount))\n",
    "print(np.min(TransactionAmount))\n",
    "print(np.max(TransactionAmount) - np.min(TransactionAmount))\n",
    "print(np.quantile(TransactionAmount, 0.25))\n",
    "print(np.quantile(TransactionAmount, 0.5))\n",
    "print(np.quantile(TransactionAmount, 0.75))"
   ]
  },
  {
   "cell_type": "code",
   "execution_count": 59,
   "id": "7637dd63-583e-4dca-8e79-08bce9c8232d",
   "metadata": {
    "executionInfo": {
     "elapsed": 854,
     "status": "ok",
     "timestamp": 1671520098187,
     "user": {
      "displayName": "Stephanie Fani",
      "userId": "03013489333346707504"
     },
     "user_tz": -420
    },
    "id": "v_dl9Fneuabm"
   },
   "outputs": [],
   "source": [
    "#Tulis analisismu dari Variability di sini\n",
    "# var = 972.2399999999999\n",
    "# std = 31.18076330047101\n",
    "# max = 150\n",
    "# min = 50\n",
    "# range = 100\n",
    "# quantile 0.25 = 85.0\n",
    "# quantile 0.5 = 100.0\n",
    "# quantile 0.75 = 120.0"
   ]
  },
  {
   "cell_type": "markdown",
   "id": "55e4e1cb-9e31-40b4-b661-2664d67e3c38",
   "metadata": {},
   "source": [
    "## T-Test"
   ]
  },
  {
   "cell_type": "code",
   "execution_count": 60,
   "id": "dafc2630-408a-4eb0-9d15-7081cdd99362",
   "metadata": {},
   "outputs": [],
   "source": [
    "import scipy.stats as stats"
   ]
  },
  {
   "cell_type": "code",
   "execution_count": 61,
   "id": "3786f132-4bd1-4c72-a5d9-1044aa088818",
   "metadata": {
    "executionInfo": {
     "elapsed": 1,
     "status": "ok",
     "timestamp": 1671520106679,
     "user": {
      "displayName": "Stephanie Fani",
      "userId": "03013489333346707504"
     },
     "user_tz": -420
    },
    "id": "3786f132-4bd1-4c72-a5d9-1044aa088818"
   },
   "outputs": [],
   "source": [
    "#Define H0 and H1\n",
    "#H0: Penjualan rata-rata per transaksi = $100\n",
    "#H1: Penjualan rata-rata per transaksi > $100"
   ]
  },
  {
   "cell_type": "code",
   "execution_count": 62,
   "id": "b8103158-ecda-478d-9926-7ec0dcfc5c12",
   "metadata": {
    "executionInfo": {
     "elapsed": 624,
     "status": "ok",
     "timestamp": 1671520113997,
     "user": {
      "displayName": "Stephanie Fani",
      "userId": "03013489333346707504"
     },
     "user_tz": -420
    },
    "id": "b8103158-ecda-478d-9926-7ec0dcfc5c12"
   },
   "outputs": [],
   "source": [
    "#Define alpha = 0.05"
   ]
  },
  {
   "cell_type": "code",
   "execution_count": 63,
   "id": "686e0fc4-84d5-4712-ae90-b47eb3ea44ac",
   "metadata": {
    "colab": {
     "base_uri": "https://localhost:8080/"
    },
    "executionInfo": {
     "elapsed": 2,
     "status": "ok",
     "timestamp": 1671520114452,
     "user": {
      "displayName": "Stephanie Fani",
      "userId": "03013489333346707504"
     },
     "user_tz": -420
    },
    "id": "686e0fc4-84d5-4712-ae90-b47eb3ea44ac",
    "outputId": "42c97137-4bef-4516-8b06-654df3bbaa93"
   },
   "outputs": [
    {
     "data": {
      "text/plain": [
       "TtestResult(statistic=0.4085001556802841, pvalue=0.6865284813438117, df=24)"
      ]
     },
     "execution_count": 63,
     "metadata": {},
     "output_type": "execute_result"
    }
   ],
   "source": [
    "#Calculate t statistics and P-value\n",
    "#Perform one sample t-test\n",
    "\n",
    "stats.ttest_1samp(a=TransactionAmount, popmean=100)"
   ]
  },
  {
   "cell_type": "code",
   "execution_count": 64,
   "id": "592f6cf7",
   "metadata": {},
   "outputs": [],
   "source": [
    "#statistic=0.4085001556802841 , pvalue=0.6865284813438117"
   ]
  },
  {
   "cell_type": "code",
   "execution_count": 2,
   "id": "35c7de5f-3992-4872-98ea-9e9269b1557b",
   "metadata": {
    "executionInfo": {
     "elapsed": 435,
     "status": "ok",
     "timestamp": 1671520140175,
     "user": {
      "displayName": "Stephanie Fani",
      "userId": "03013489333346707504"
     },
     "user_tz": -420
    },
    "id": "35c7de5f-3992-4872-98ea-9e9269b1557b"
   },
   "outputs": [],
   "source": [
    "#Conclude with alpha and p-value\n",
    "#Karena nilai P Value lebih besar dari alpha (5%), maka kita gagal menolak H0\n",
    "#Conclusion: Kampanye tidak efektif, rata-rata jumlah per transaksi masih $100"
   ]
  },
  {
   "cell_type": "code",
   "execution_count": 66,
   "id": "9580db55-a594-4c1b-a5e6-3787906505c2",
   "metadata": {
    "executionInfo": {
     "elapsed": 1,
     "status": "ok",
     "timestamp": 1671520143687,
     "user": {
      "displayName": "Stephanie Fani",
      "userId": "03013489333346707504"
     },
     "user_tz": -420
    },
    "id": "9580db55-a594-4c1b-a5e6-3787906505c2"
   },
   "outputs": [],
   "source": [
    "#Conclude with t statistics and critical region\n",
    "#Find the critical region"
   ]
  },
  {
   "cell_type": "code",
   "execution_count": 67,
   "id": "1429f038",
   "metadata": {},
   "outputs": [
    {
     "data": {
      "text/plain": [
       "1.7108820799094275"
      ]
     },
     "execution_count": 67,
     "metadata": {},
     "output_type": "execute_result"
    }
   ],
   "source": [
    "#H1: lebih besar (sisi kanan)\n",
    "stats.t.ppf(1-0.05, 24)"
   ]
  },
  {
   "cell_type": "code",
   "execution_count": 68,
   "id": "d6595428-5211-4cf7-bb61-ca8e201e6ef6",
   "metadata": {
    "executionInfo": {
     "elapsed": 1,
     "status": "ok",
     "timestamp": 1671520153697,
     "user": {
      "displayName": "Stephanie Fani",
      "userId": "03013489333346707504"
     },
     "user_tz": -420
    },
    "id": "d6595428-5211-4cf7-bb61-ca8e201e6ef6"
   },
   "outputs": [],
   "source": [
    "# Critical region: t > 1.71\n",
    "# Karena t-statistic tidak berada didalam the critical region,maka kita gagal menolak H0\n",
    "#Conclusion: Campaign (Training sales) tidak efektif, rata-rata jumlah per transaksi masih $100"
   ]
  }
 ],
 "metadata": {
  "colab": {
   "provenance": []
  },
  "kernelspec": {
   "display_name": "Python 3 (ipykernel)",
   "language": "python",
   "name": "python3"
  },
  "language_info": {
   "codemirror_mode": {
    "name": "ipython",
    "version": 3
   },
   "file_extension": ".py",
   "mimetype": "text/x-python",
   "name": "python",
   "nbconvert_exporter": "python",
   "pygments_lexer": "ipython3",
   "version": "3.11.8"
  },
  "vscode": {
   "interpreter": {
    "hash": "5e70fd34aa919644e731ce0c71c5ec6c66d3b48eb7909f9a04da7ee7076ef028"
   }
  }
 },
 "nbformat": 4,
 "nbformat_minor": 5
}
